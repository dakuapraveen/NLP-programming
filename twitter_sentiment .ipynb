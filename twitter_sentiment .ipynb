{
  "nbformat": 4,
  "nbformat_minor": 0,
  "metadata": {
    "colab": {
      "name": "twitter_sentiment",
      "version": "0.3.2",
      "provenance": [],
      "collapsed_sections": []
    },
    "kernelspec": {
      "name": "python3",
      "display_name": "Python 3"
    }
  },
  "cells": [
    {
      "cell_type": "code",
      "metadata": {
        "id": "U0ftkbS3IuIP",
        "colab_type": "code",
        "colab": {}
      },
      "source": [
        "import tweepy\n",
        "import matplotlib.pyplot as plt \n",
        "from textblob import TextBlob\n",
        "import time"
      ],
      "execution_count": 0,
      "outputs": []
    },
    {
      "cell_type": "code",
      "metadata": {
        "id": "eYvehG5gK6QE",
        "colab_type": "code",
        "colab": {}
      },
      "source": [
        "# all 4 authontication keys to access twitter API\n",
        "# to connect as handler or jump server /reverse proxy server\n",
        "consumer_key=''\n",
        "consumer_sec=''"
      ],
      "execution_count": 0,
      "outputs": []
    },
    {
      "cell_type": "code",
      "metadata": {
        "id": "TP8xWbsROUUw",
        "colab_type": "code",
        "colab": {}
      },
      "source": [
        "access_token=''\n",
        "access_sec=''"
      ],
      "execution_count": 0,
      "outputs": []
    },
    {
      "cell_type": "code",
      "metadata": {
        "id": "Dhi0-AzMOm1D",
        "colab_type": "code",
        "colab": {}
      },
      "source": [
        "auth=tweepy.OAuthHandler(consumer_key,consumer_sec)"
      ],
      "execution_count": 0,
      "outputs": []
    },
    {
      "cell_type": "code",
      "metadata": {
        "id": "aGPqleMsPla6",
        "colab_type": "code",
        "colab": {}
      },
      "source": [
        "api_connect=tweepy.API(auth)"
      ],
      "execution_count": 0,
      "outputs": []
    },
    {
      "cell_type": "code",
      "metadata": {
        "id": "k2rgTz-pP1yR",
        "colab_type": "code",
        "colab": {}
      },
      "source": [
        "tweet_data=api_connect.search('modi',count=20)"
      ],
      "execution_count": 0,
      "outputs": []
    },
    {
      "cell_type": "code",
      "metadata": {
        "id": "rdoWWMYPS9jZ",
        "colab_type": "code",
        "outputId": "338521c5-babe-4ad0-d3b8-1dd988f454f7",
        "colab": {
          "base_uri": "https://localhost:8080/",
          "height": 68
        }
      },
      "source": [
        "import nltk\n",
        "nltk.download('punkt')"
      ],
      "execution_count": 0,
      "outputs": [
        {
          "output_type": "stream",
          "text": [
            "[nltk_data] Downloading package punkt to /root/nltk_data...\n",
            "[nltk_data]   Unzipping tokenizers/punkt.zip.\n"
          ],
          "name": "stdout"
        },
        {
          "output_type": "execute_result",
          "data": {
            "text/plain": [
              "True"
            ]
          },
          "metadata": {
            "tags": []
          },
          "execution_count": 28
        }
      ]
    },
    {
      "cell_type": "code",
      "metadata": {
        "id": "eYvbXxpyQJy6",
        "colab_type": "code",
        "outputId": "c2351bff-46f2-457a-a556-7efce6b4e275",
        "colab": {
          "base_uri": "https://localhost:8080/",
          "height": 997
        }
      },
      "source": [
        "pos=0\n",
        "neg=0\n",
        "nue=0\n",
        "for tweet in tweet_data:\n",
        "  #print(tweet.text)\n",
        "  analysis=TextBlob(tweet.text)  # here it will apply NLP\n",
        "  print(analysis.sentiment)\n",
        "  # noe checking polarity only\n",
        "  if analysis.sentiment.polarity  > 0 :\n",
        "    print(\"positive\")\n",
        "    pos=pos+1\n",
        "  elif analysis.sentiment.polarity  == 0 :\n",
        "    print(\"Neutral\")\n",
        "    nue=nue+1\n",
        "  else :\n",
        "    print(\"Negative\")\n",
        "    neg=neg+1\n",
        "\n",
        "plt.xlabel(\"tags\")\n",
        "plt.ylabel(\"polarity\")\n",
        "#plt.bar(['pos','neg','nue'],[pos,neg,nue])\n",
        "plt.pie([pos,neg,nue],labels=[\"pos\",\"neg\",\"nue\"],autopct='%1.1F%%')"
      ],
      "execution_count": 0,
      "outputs": [
        {
          "output_type": "stream",
          "text": [
            "Sentiment(polarity=0.0, subjectivity=0.0)\n",
            "Neutral\n",
            "Sentiment(polarity=-0.5, subjectivity=0.5)\n",
            "Negative\n",
            "Sentiment(polarity=0.0, subjectivity=0.0)\n",
            "Neutral\n",
            "Sentiment(polarity=0.2, subjectivity=0.45)\n",
            "positive\n",
            "Sentiment(polarity=0.125, subjectivity=0.6666666666666666)\n",
            "positive\n",
            "Sentiment(polarity=0.13636363636363635, subjectivity=0.45454545454545453)\n",
            "positive\n",
            "Sentiment(polarity=0.0, subjectivity=0.0)\n",
            "Neutral\n",
            "Sentiment(polarity=0.325, subjectivity=0.7)\n",
            "positive\n",
            "Sentiment(polarity=0.0, subjectivity=0.0)\n",
            "Neutral\n",
            "Sentiment(polarity=0.0, subjectivity=0.0)\n",
            "Neutral\n",
            "Sentiment(polarity=0.0, subjectivity=0.0)\n",
            "Neutral\n",
            "Sentiment(polarity=0.625, subjectivity=1.0)\n",
            "positive\n",
            "Sentiment(polarity=-0.4, subjectivity=0.6)\n",
            "Negative\n",
            "Sentiment(polarity=0.0, subjectivity=0.0)\n",
            "Neutral\n",
            "Sentiment(polarity=0.0, subjectivity=0.0)\n",
            "Neutral\n",
            "Sentiment(polarity=0.19999999999999998, subjectivity=0.6833333333333332)\n",
            "positive\n",
            "Sentiment(polarity=0.0, subjectivity=0.0)\n",
            "Neutral\n"
          ],
          "name": "stdout"
        },
        {
          "output_type": "execute_result",
          "data": {
            "text/plain": [
              "([<matplotlib.patches.Wedge at 0x7fd6869f6898>,\n",
              "  <matplotlib.patches.Wedge at 0x7fd6869f6f98>,\n",
              "  <matplotlib.patches.Wedge at 0x7fd686a006d8>],\n",
              " [Text(0.49031216423879204, 0.9846796339924332, 'pos'),\n",
              "  Text(-0.9352388819922055, 0.5790753263695231, 'neg'),\n",
              "  Text(-0.10149503555212543, -1.0953076087375058, 'nue')],\n",
              " [Text(0.2674429986757047, 0.5370979821776908, '35.3%'),\n",
              "  Text(-0.5101302992684756, 0.3158592689288307, '11.8%'),\n",
              "  Text(-0.0553609284829775, -0.5974405138568212, '52.9%')])"
            ]
          },
          "metadata": {
            "tags": []
          },
          "execution_count": 35
        },
        {
          "output_type": "display_data",
          "data": {
            "image/png": "[encoded data removed]",
            "text/plain": [
              "<Figure size 432x288 with 1 Axes>"
            ]
          },
          "metadata": {
            "tags": []
          }
        }
      ]
    },
    {
      "cell_type": "code",
      "metadata": {
        "id": "ILbEfwUAQSHT",
        "colab_type": "code",
        "colab": {}
      },
      "source": [
        ""
      ],
      "execution_count": 0,
      "outputs": []
    }
  ]
}